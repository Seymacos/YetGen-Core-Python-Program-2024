{
 "cells": [
  {
   "attachments": {},
   "cell_type": "markdown",
   "metadata": {},
   "source": [
    "# Problem 1 "
   ]
  },
  {
   "cell_type": "code",
   "execution_count": 3,
   "metadata": {},
   "outputs": [
    {
     "name": "stdout",
     "output_type": "stream",
     "text": [
      "[  2  12  28  97 397]\n"
     ]
    }
   ],
   "source": [
    "# 1 - numpy kütüphanesini import edin\n",
    "import numpy as np\n",
    "\n",
    "# 2 - 5 elemanlı bir numpy array oluşturun\n",
    "arrayNumpy = np.array([28, 97, 12, 397, 2])\n",
    "\n",
    "# 3 - Oluşturduğunuz arrayi küçükten büyüğe sıralayın.\n",
    "arraySorted= np.sort(arrayNumpy)\n",
    "print(arraySorted)"
   ]
  },
  {
   "attachments": {},
   "cell_type": "markdown",
   "metadata": {},
   "source": [
    "# Problem 2"
   ]
  },
  {
   "cell_type": "code",
   "execution_count": 19,
   "metadata": {},
   "outputs": [
    {
     "name": "stdout",
     "output_type": "stream",
     "text": [
      "[10, 15, 30, 45, 60]\n",
      "[ 5  6  7  8  9 10 11 12 13 14 15]\n",
      "[ 50  55  60  65  70  75  80  85  90  95 100]\n",
      "[0 0 0 0 0 0 0 0 0 0]\n",
      "[1 1 1 1 1 1 1 1 1 1]\n",
      "[  0.  25.  50.  75. 100.]\n",
      "[25 20 26 11 14]\n",
      "[-0.99353678  0.60661458  0.34646942  0.6939316   0.55156883  0.25222813\n",
      "  0.46356385 -0.52942451  0.99570043 -0.27052249]\n"
     ]
    }
   ],
   "source": [
    "# 1- (10,15,30,45,60) değerlerine sahip numpy dizisi oluşturunuz.\n",
    "arrayNumpy1=([10,15,30,45,60])\n",
    "print(arrayNumpy1)\n",
    "\n",
    "# 2- (5-15) arasındaki sayılarla numpy dizisi oluşturunuz.\n",
    "arrayNumpy2 =np.arange (5,16)\n",
    "print(arrayNumpy2)\n",
    " \n",
    "# 3- (50-100) arasında 5'er 5'er artarak numpy dizisi oluşturunuz.\n",
    "arrayNumpy3 = np.arange (50,101,5)\n",
    "print(arrayNumpy3)\n",
    "\n",
    "# 4- 10 elemanlı sıfırlardan oluşan bir dizi oluşturunuz.\n",
    "arrayNumpy4= np.full(10,0)\n",
    "print(arrayNumpy4)\n",
    "\n",
    "# 5- 10 elemanlı birlerden oluşan bir dizi oluşturunuz.\n",
    "arrayNumpy5=np.full(10,1)\n",
    "print(arrayNumpy5)\n",
    "\n",
    "# 6- (0-100) arasında eşit aralıklı 5 sayı üretin.\n",
    "arrayNumpy6= np.linspace(0,100,5)\n",
    "print(arrayNumpy6)\n",
    "\n",
    "# 7- (10-30) arasında rastgele 5 tane tamsayı üretin.\n",
    "arrayNumpy7= np.random.randint(10,31,size=5)\n",
    "print(arrayNumpy7)\n",
    "\n",
    "# 8- [-1 ile 1] arasında 10 adet sayı üretin.\n",
    "arrayNumpy8= np.random.uniform(-1,1,size=10)\n",
    "print(arrayNumpy8)\n",
    "\n",
    "# 9- (3x5) boyutlarında (10-50) arasında rastgele bir matris oluşturunuz.\n",
    "\n",
    "\n",
    "# 10- Üretilen matrisin satır ve sütun sayıları toplamlarını hesaplayınız ?\n",
    "\n",
    "\n",
    "# 11- Üretilen matrisin en büyük, en küçük ve ortalaması nedir ?\n",
    "\n",
    "\n",
    "# 12- Üretilen matrisin en büyük değerinin indeksi kaçtır ?\n",
    "\n",
    "\n",
    "# 13- (10-20) arasındaki sayıları içeren dizinin ilk 3 elemanını seçiniz.\n",
    "\n",
    "\n",
    "# 14- Üretilen dizinin elemanlarını tersten yazdırın.\n",
    "\n",
    "\n",
    "# 15- Üretilen matrisin ilk satırını seçiniz.\n",
    "\n",
    "\n",
    "# 16- Üretilen matrisin 2.satır 3.sütundaki elemanı hangisidir ?\n",
    "\n",
    "\n",
    "# 17- Üretilen matrisin tüm satırlardaki ilk elemanı seçiniz.\n",
    "\n",
    "\n",
    "# 18- Üretilen matrisin her bir elemanının karesini alınız.\n",
    "\n",
    "\n",
    "# 19- Üretilen matris elemanlarının hangisi pozitif çift sayıdır ? Aralığı (-50,+50) arasında yapınız.\n"
   ]
  }
 ],
 "metadata": {
  "kernelspec": {
   "display_name": "Python 3",
   "language": "python",
   "name": "python3"
  },
  "language_info": {
   "codemirror_mode": {
    "name": "ipython",
    "version": 3
   },
   "file_extension": ".py",
   "mimetype": "text/x-python",
   "name": "python",
   "nbconvert_exporter": "python",
   "pygments_lexer": "ipython3",
   "version": "3.12.3"
  },
  "orig_nbformat": 4,
  "vscode": {
   "interpreter": {
    "hash": "5026d2d6e7aaaaba093def813beadff083d8733e4a511af01735cbabd156995d"
   }
  }
 },
 "nbformat": 4,
 "nbformat_minor": 2
}
