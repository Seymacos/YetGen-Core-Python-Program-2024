{
 "cells": [
  {
   "attachments": {},
   "cell_type": "markdown",
   "metadata": {},
   "source": [
    "# Problem 1"
   ]
  },
  {
   "cell_type": "code",
   "execution_count": 14,
   "metadata": {},
   "outputs": [
    {
     "name": "stdout",
     "output_type": "stream",
     "text": [
      "0 ile 10 arasında 5 sayıdan oluşan matris: [4 9 2 2 5]\n",
      "Matris'in boyutu: (5,)\n",
      "Yeniden boyutlandırılmış matris: [[[4 9 2 2 5]]]\n",
      "Matris'in boyut sayısı: 3\n"
     ]
    }
   ],
   "source": [
    "# 1 - numpy kütüphanesini import edin\n",
    "import numpy as np\n",
    "\n",
    "# 2 - 0 ile 10 arasında 5 sayıdan oluşan matris üretin\n",
    "matris = np.random.randint(0, 10, size=5)\n",
    "print(\"0 ile 10 arasında 5 sayıdan oluşan matris:\", matris)\n",
    "\n",
    "# 3 - matris'in boyutunu öğrenin\n",
    "matrisBoyut = matris.shape\n",
    "print(\"Matris'in boyutu:\", matrisBoyut)\n",
    "\n",
    "# 4 - matris'i yeniden boyutlandırın\n",
    "matrisBoyutlandilmis = matris.reshape(1,1,5)\n",
    "print(\"Yeniden boyutlandırılmış matris:\", matrisBoyutlandilmis)\n",
    "\n",
    "# 5 - matris'in boyut sayısını öğrenin\n",
    "boyutSayisi = matrisBoyutlandilmis.ndim\n",
    "print(\"Matris'in boyut sayısı:\", boyutSayisi)"
   ]
  },
  {
   "attachments": {},
   "cell_type": "markdown",
   "metadata": {},
   "source": [
    "# Problem 2"
   ]
  },
  {
   "cell_type": "code",
   "execution_count": 16,
   "metadata": {},
   "outputs": [
    {
     "name": "stdout",
     "output_type": "stream",
     "text": [
      "Tek sayılardan oluşan matris: [1 3 5 7 9]\n",
      "Birinci parça: [1]\n",
      "İkinci parça: [3]\n",
      "Üçüncü parça: [5]\n",
      "Dördüncü parça: [7]\n",
      "Beşinci parça: [9]\n",
      "Birleştirilmiş matris: [1 3 5 7 9]\n"
     ]
    }
   ],
   "source": [
    "# 1 - 0 ile 10 arasında bulunan tek sayılardan oluşan matris üretin\n",
    "tekSayilar = np.arange(1, 10, 2)\n",
    "print(\"Tek sayılardan oluşan matris:\", tekSayilar)\n",
    "\n",
    "# 2 - Oluşturduğunuz matrisi parçalayın\n",
    "parca1, parca2, parca3, parca4, parca5 = np.split(tekSayilar, 5)\n",
    "print(\"Birinci parça:\", parca1)\n",
    "print(\"İkinci parça:\", parca2)\n",
    "print(\"Üçüncü parça:\", parca3)\n",
    "print(\"Dördüncü parça:\", parca4)\n",
    "print(\"Beşinci parça:\", parca5)\n",
    "\n",
    "# 3 - Parçalanmış matrisleri birleştirin\n",
    "matrisBirlestirlmis = np.concatenate((parca1, parca2, parca3, parca4, parca5))\n",
    "print(\"Birleştirilmiş matris:\", matrisBirlestirlmis)\n"
   ]
  },
  {
   "attachments": {},
   "cell_type": "markdown",
   "metadata": {},
   "source": [
    "# Problem 3"
   ]
  },
  {
   "cell_type": "code",
   "execution_count": 18,
   "metadata": {},
   "outputs": [
    {
     "name": "stdout",
     "output_type": "stream",
     "text": [
      "Matris: [59 51 83 53 91 23  5 39 95 47]\n",
      "Matris'in boyutu: (10,)\n",
      "Matris'in boyut sayısı: 1\n",
      "Matris'teki toplam eleman sayısı: 10\n",
      "Matris'in ortalaması: 54.6\n"
     ]
    }
   ],
   "source": [
    "# 1 - 5 ile 100 arasında ikişer ikişer atlayarak rastgele 10 sayıdan oluşan matris üretin\n",
    "sayiAralik = np.arange(5, 101, 2)\n",
    "sayilar = np.random.choice(sayiAralik, 10, replace=False)\n",
    "print(\"Matris:\", sayilar)\n",
    "\n",
    "# 2 - matris'in özelliklerini inceleyin\n",
    "boyut = sayilar.shape\n",
    "boyutSayisi = sayilar.ndim\n",
    "toplamEleman = sayilar.size\n",
    "ortalama = sayilar.mean()\n",
    "\n",
    "print(\"Matris'in boyutu:\", boyut)\n",
    "print(\"Matris'in boyut sayısı:\", boyutSayisi)\n",
    "print(\"Matris'teki toplam eleman sayısı:\", toplamEleman)\n",
    "print(\"Matris'in ortalaması:\", ortalama)\n"
   ]
  }
 ],
 "metadata": {
  "kernelspec": {
   "display_name": "Python 3",
   "language": "python",
   "name": "python3"
  },
  "language_info": {
   "codemirror_mode": {
    "name": "ipython",
    "version": 3
   },
   "file_extension": ".py",
   "mimetype": "text/x-python",
   "name": "python",
   "nbconvert_exporter": "python",
   "pygments_lexer": "ipython3",
   "version": "3.12.3"
  },
  "orig_nbformat": 4,
  "vscode": {
   "interpreter": {
    "hash": "5026d2d6e7aaaaba093def813beadff083d8733e4a511af01735cbabd156995d"
   }
  }
 },
 "nbformat": 4,
 "nbformat_minor": 2
}
