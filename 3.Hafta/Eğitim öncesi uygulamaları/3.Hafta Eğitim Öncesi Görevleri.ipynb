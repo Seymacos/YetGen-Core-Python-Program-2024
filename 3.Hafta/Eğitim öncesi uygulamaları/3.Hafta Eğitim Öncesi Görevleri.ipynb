{
  "cells": [
    {
      "cell_type": "markdown",
      "metadata": {
        "id": "tsD4YVAe_Te2"
      },
      "source": [
        "# Problem 1\n",
        "Bir sayının 7'ye bölünebilir olup olmadığını kontrol etmek \n",
        "için bir program yazın.\n",
        "\n",
        "İpucu: Mod operatörünü (%) kullanabilirsiniz."
      ]
    },
    {
      "cell_type": "code",
      "execution_count": 4,
      "metadata": {
        "id": "NGjvNwKx_Te7"
      },
      "outputs": [
        {
          "name": "stdout",
          "output_type": "stream",
          "text": [
            "Sayıyı giriniz.\n",
            "21 7'e bölünebilir.\n"
          ]
        }
      ],
      "source": [
        "# Kullanıcıdan sayıyı al.\n",
        "sayi = int(input(print(\"Sayıyı giriniz.\")))\n",
        "\n",
        "# 7'e bölünümünü kontrol et.\n",
        "if sayi%7==0:\n",
        "    print(f\"{sayi} 7'e bölünebilir.\")\n",
        "else:\n",
        "   print(f\"{sayi} 7'e bölünemez.\")\n"
      ]
    },
    {
      "cell_type": "markdown",
      "metadata": {
        "id": "Kg3qiBAI_Te8"
      },
      "source": [
        "# Problem 2\n",
        "Kullanıcıdan vize ve final notu isteyin. Girilen vize notunun %40’ı ve \n",
        "girilen finalnotunun ise %60’ı alınarak yıl sonu not ortalaması hesaplanacaktır. \n",
        "\n",
        "Bu not ortalaması eğer 85 ve üzeri ise AA, \n",
        "\n",
        "75 ve 85 arasında ise BA, \n",
        "\n",
        "70 ve 75 arasında ise BB, \n",
        "\n",
        "65 ve 70 arasında ise CB,\n",
        "\n",
        "60 ve 65 arasında ise CC,\n",
        "\n",
        "55 ve 60 arasında ise DC,\n",
        "\n",
        "50 ve 55 arasında ise DD olarak hesaplanacaktır. \n",
        "\n",
        "Bu öğrencinin yıl sonu toplam notu 50’nin altında ise FF ile dersten kalacaktır. \n",
        "\n",
        "Ayrıca öğrencinin final notu 50’nin altında ise direkt FF ile kalacaktır."
      ]
    },
    {
      "cell_type": "code",
      "execution_count": 10,
      "metadata": {
        "id": "MXTtCxI1_Te8"
      },
      "outputs": [
        {
          "name": "stdout",
          "output_type": "stream",
          "text": [
            "Vize notunuzu giriniz.\n",
            "Final notunuzu giriniz.\n",
            "FF ile kaldınız.\n"
          ]
        }
      ],
      "source": [
        "# Kullanıcıdan vize ve final notlarını al.\n",
        "vizeNot = int(input(print(\"Vize notunuzu giriniz.\")))\n",
        "finalNot = int(input(print(\"Final notunuzu giriniz.\")))\n",
        "\n",
        "# Yıl sonu ortalamasını hesapla.\n",
        "yilSonuOrtalamasi = vizeNot*0.4 + finalNot*0.6\n",
        "\n",
        "if (finalNot<50 or yilSonuOrtalamasi<50):\n",
        "    print(f\"FF ile kaldınız.\")\n",
        "elif(yilSonuOrtalamasi>=85):\n",
        "    print(f\"AA ile geçtiniz.\")\n",
        "elif(yilSonuOrtalamasi>=75):\n",
        "    print(f\"BA ile geçtiniz.\")\n",
        "elif(yilSonuOrtalamasi>=70):\n",
        "    print(f\"BB ile geçtiniz.\")\n",
        "elif(yilSonuOrtalamasi>=65):\n",
        "    print(f\"CB ile geçtiniz.\")\n",
        "elif(yilSonuOrtalamasi>=60):\n",
        "    print(f\"CC ile geçtiniz.\")\n",
        "elif(yilSonuOrtalamasi>=55):\n",
        "    print(f\"DC ile geçtiniz.\")\n",
        "elif(yilSonuOrtalamasi>=50):\n",
        "    print(f\"DD ile geçtiniz.\")"
      ]
    },
    {
      "cell_type": "markdown",
      "metadata": {
        "id": "tAoRYCTC_Te8"
      },
      "source": [
        "# Problem 3\n",
        "İki YetGenli Zirve'de karşılaşıyorlar. Birbirlerini tanımak için sorular soruyorlar. Birbirlerine yaşlarını soruyorlar. Akıllarına bir Python programı yazıp, yaşlarını ve isimlerini giriyorlar. Büyük olanın yaşını ekrana yazdıran programı yazıyorlar. Sende bu iki YetGenli'ye destek olmak ister misin?\n",
        "\n",
        "```\n",
        "Birinci YetGenlinin ismi: Ahmet\n",
        "Birinci YetGenlinin yaşı : 20\n",
        "İkinci YetGenlinin ismi: Mehmet\n",
        "İkinci YetGenlinin yaşı : 25\n",
        "Mehmet'in yaşı daha büyük ve yaşı 25'tir.\n",
        "```"
      ]
    },
    {
      "cell_type": "code",
      "execution_count": 16,
      "metadata": {
        "id": "bPjE8W0i_Te8"
      },
      "outputs": [
        {
          "name": "stdout",
          "output_type": "stream",
          "text": [
            "1. yetgenlinin yaşını giriniz.\n",
            "1. yetgenlinin ismini giriniz.\n",
            "2. yetgenlinin yaşını giriniz.\n",
            "2. yetgenlinin ismini giriniz.\n",
            "Mehmet 'in yaşı daha büyük ve yaşı 25 'tir.\n"
          ]
        }
      ],
      "source": [
        "# İsimlerini ve yaşlarını kullanıcıdan al.\n",
        "yas1 = int(input(print(\"1. yetgenlinin yaşını giriniz.\")))\n",
        "isim1 = input(print(\"1. yetgenlinin ismini giriniz.\"))\n",
        "\n",
        "yas2 = int(input(print(\"2. yetgenlinin yaşını giriniz.\")))\n",
        "isim2 = input(print(\"2. yetgenlinin ismini giriniz.\"))\n",
        "\n",
        "if(yas1>yas2):\n",
        "    print(f\"{isim1} 'in yaşı daha büyük ve yaşı {yas1} 'tir.\")\n",
        "elif (yas1==yas2):\n",
        "    print(f\"{isim1} ve {isim2}'in yaşları eşittir ve yaşları {yas1} 'tir.\")\n",
        "else:\n",
        "    print(f\"{isim2} 'in yaşı daha büyük ve yaşı {yas2} 'tir.\")"
      ]
    },
    {
      "cell_type": "markdown",
      "metadata": {
        "id": "zBVv8Tyg_Te9"
      },
      "source": [
        "# Problem 4\n",
        "Pandemi döneminde AVM'lerde ateş ölçümü yapılıyor. AVM'ye giren kişinin ateş ölçümü 37.5 derecenin altında ise girişe izin veriliyor. 37.5 derecenin üstünde ise girişe izin verilmiyor. AVM'ye girişe izin verilip verilmediğini ekrana yazdıran bir program yazın.\n",
        "\n",
        "Program sonunda şöyle bir çıktı elde etmelisiniz:\n",
        "\n",
        "```\n",
        "Ateşiniz 37.5 derece. AVM'ye girebilirsin! Maske takmayı unutma!\n",
        "Ateşiniz 37.6 derece. AVM'ye giremezsin! Hemen evine dön!\n",
        "```"
      ]
    },
    {
      "cell_type": "code",
      "execution_count": 22,
      "metadata": {
        "id": "TSAXs8et_Te9"
      },
      "outputs": [
        {
          "name": "stdout",
          "output_type": "stream",
          "text": [
            "Ateş ölçüsünü giriniz.\n",
            "Ateşiniz 37.5 derece. AVM'ye girebilirsin! Maske takmayı unutma!\n"
          ]
        }
      ],
      "source": [
        "# Ateş ölçüsünü al.\n",
        "atesOlcüsü = float(input(print(\"Ateş ölçüsünü giriniz.\")))\n",
        "\n",
        "if(atesOlcüsü>37.5):\n",
        "    print(f\"Ateşiniz {atesOlcüsü} derece. AVM'ye giremezsin! Hemen evine dön!\")\n",
        "else:\n",
        "    print(f\"Ateşiniz {atesOlcüsü} derece. AVM'ye girebilirsin! Maske takmayı unutma!\")\n"
      ]
    },
    {
      "cell_type": "markdown",
      "metadata": {
        "id": "6AEkZrDt_Te9"
      },
      "source": [
        "# Problem 5\n",
        "YetGen bir spor kulübüyle sponsorluk anlaşması yapıyor. Kulüp, sponsorluk anlaşmasına göre her YetGen liderinin beden kitle indeksini hesaplamak istiyor. Spor kulübü, beden kitle indeksini hesaplamak için YetGen Jump Python liderlerinden Berkcan ve Ahmet'i arıyor. Berkcan ve Ahmet, kulübe yardımcı olmak için bir Python programı yazıyorlar. Sende bu iki YetGen liderine destek olmak ister misin?\n",
        "\n",
        "Kullanıcıdan alınan boy ve kilo değerlerine göre beden kitle indeksini hesaplayın ve şu kurallara göre ekrana şu yazıları yazdırın.\n",
        "\n",
        "\n",
        "Beden Kitle İndeksi, kişinin ağırlığının (kg olarak) boyunun karesine (m olarak) bölünmesiyle hesaplanır.\n",
        "\n",
        "\n",
        "```\n",
        " BKİ 18.5'un altındaysa -------> Zayıf\n",
        "\n",
        " BKİ 18.5 ile 25 arasındaysa ------> Normal\n",
        "\n",
        " BKİ 25 ile 30 arasındaysa --------> Fazla Kilolu\n",
        "\n",
        " BKİ 30'un üstündeyse -------------> Obez\n",
        "```\n",
        "\n"
      ]
    },
    {
      "cell_type": "code",
      "execution_count": 6,
      "metadata": {
        "id": "t-XPI_u0_Te-"
      },
      "outputs": [
        {
          "name": "stdout",
          "output_type": "stream",
          "text": [
            "Boyunuzu giriniz.\n",
            "Kilonuzu giriniz.\n",
            "NORMAL\n"
          ]
        }
      ],
      "source": [
        "boy = float(input(print(\"Boyunuzu giriniz.\")))\n",
        "kilo = float(input(print(\"Kilonuzu giriniz.\")))\n",
        "\n",
        "bedenKitleIndeksi = kilo/(boy**2)\n",
        "\n",
        "if bedenKitleIndeksi<18.5 :\n",
        "    print(\"ZAYIF\")\n",
        "elif 18.5<=bedenKitleIndeksi<25:\n",
        "    print(\"NORMAL\")\n",
        "elif 25<=bedenKitleIndeksi<30 :\n",
        "    print(\"FAZLA KİLOLU\")\n",
        "else:\n",
        "    print(\"OBEZ\")"
      ]
    },
    {
      "cell_type": "markdown",
      "metadata": {
        "id": "oFsvQyaO_Te-"
      },
      "source": [
        "# Problem 6\n",
        "Kullanıcıdan isim, yaş ve eğitim bilgilerini isteyip ehliyet alabilme  durumunu kontrol ediniz. \n",
        "\n",
        "Ehliyet alma koşulu en az 18 yaşında ve eğitim durumu lise ya da üniversite olmalıdır. "
      ]
    },
    {
      "cell_type": "code",
      "execution_count": 14,
      "metadata": {
        "id": "Tu2mcgco_Te-"
      },
      "outputs": [
        {
          "name": "stdout",
          "output_type": "stream",
          "text": [
            "İsminizi giriniz.\n",
            "Şeyma\n",
            "Yaşınızı giriniz.\n",
            "23\n",
            "Eğitim durumunuzu giriniz.(Lise-Üniversite şeklinde yazınız.)\n",
            "Üniversite\n",
            "Ehliyet alabilirsiniz.\n"
          ]
        }
      ],
      "source": [
        "isim = input(print(\"İsminizi giriniz.\"))\n",
        "print(isim)\n",
        "yas = int(input(print(\"Yaşınızı giriniz.\")))\n",
        "print(yas)\n",
        "egitim = input(print(\"Eğitim durumunuzu giriniz.(Lise-Üniversite şeklinde yazınız.)\"))\n",
        "print(egitim)\n",
        "\n",
        "if yas<18:\n",
        "    print(\"Ehliyet alamazsınız\")\n",
        "else:\n",
        "    if egitim == \"Lise\" or egitim == \"Üniversite\":\n",
        "        print(\"Ehliyet alabilirsiniz.\")\n",
        "    else:\n",
        "        print(\"Ehliyet alamazsınız.\")\n",
        "\n",
        "\n"
      ]
    },
    {
      "cell_type": "markdown",
      "metadata": {
        "id": "eUkxVSAE_Te_"
      },
      "source": [
        "# Problem 7\n",
        "Bir yılın artık yıl olup olmadığını kontrol etmek için bir program yazın. \n",
        "Artık yıl kuralı:\n",
        "\n",
        "a) Eğer yılın son iki basamağı (00) ile bitmiyor ve yalnızca 4'e tam bölünüyorsa artık yıldır. Ya da, \n",
        "\n",
        "b) Eğer yıl 400'e tam bölünüyorsa artık yıldır.\n",
        "\n",
        "**Örneğin**\n",
        "```\n",
        "2017 artık yıl değildir.\n",
        "1900 artık yıl değildir\n",
        "2012 artık yıldır.\n",
        "2000 artık yıldır.\n",
        "```"
      ]
    },
    {
      "cell_type": "code",
      "execution_count": 18,
      "metadata": {
        "id": "4uWh8qUL_Te_"
      },
      "outputs": [
        {
          "name": "stdout",
          "output_type": "stream",
          "text": [
            "Yılı giriniz.\n",
            "1900 artık yıl değildir.\n"
          ]
        }
      ],
      "source": [
        "yil = int(input(print(\"Yılı giriniz.\")))\n",
        "\n",
        "if (yil%4==0 and yil%100!=0) or (yil%400==0):\n",
        "    print(f\"{yil} artık yıldır.\")\n",
        "else:     \n",
        "    print(f\"{yil} artık yıl değildir.\")\n",
        "\n",
        "\n"
      ]
    }
  ],
  "metadata": {
    "colab": {
      "provenance": []
    },
    "kernelspec": {
      "display_name": "Python 3.10.5 64-bit",
      "language": "python",
      "name": "python3"
    },
    "language_info": {
      "codemirror_mode": {
        "name": "ipython",
        "version": 3
      },
      "file_extension": ".py",
      "mimetype": "text/x-python",
      "name": "python",
      "nbconvert_exporter": "python",
      "pygments_lexer": "ipython3",
      "version": "3.12.3"
    },
    "orig_nbformat": 4,
    "vscode": {
      "interpreter": {
        "hash": "5026d2d6e7aaaaba093def813beadff083d8733e4a511af01735cbabd156995d"
      }
    }
  },
  "nbformat": 4,
  "nbformat_minor": 0
}
