{
 "cells": [
  {
   "cell_type": "markdown",
   "metadata": {},
   "source": [
    "# Problem 1\n",
    "`ogrenciler` adında bir sözlük oluşturunuz. Kullanıcıdan döngü yardımıyla 3 öğrenci için veri girmesini isteyerek öğrencilerin sırasıyla okul numarası, isim, soy isim, telefon numarası ve doğum tarihi bilgilerini alınız. Aldığınız öğrenci bilgilerini yine aynı döngü yardımıyla `ogrenciler` adındaki sözlükte saklayınız. Daha sonra öğrenci bilgilerinin bulunduğu sözlük yapısını ekrana bastırınız.\n",
    "\n"
   ]
  },
  {
   "cell_type": "code",
   "execution_count": 2,
   "metadata": {},
   "outputs": [
    {
     "name": "stdout",
     "output_type": "stream",
     "text": [
      "Ögrenci Bilgileri\n",
      "\n",
      "  Okulno: 456\n",
      "  Isim: Şeyma\n",
      "  Soyisim: Coştur\n",
      "  Telno: 05554442299\n",
      "  Dogumtarihi: 23.06.2001\n",
      "  Okulno: 159\n",
      "  Isim: Lale\n",
      "  Soyisim: Demir\n",
      "  Telno: 06339663696\n",
      "  Dogumtarihi: 15.02.2000\n",
      "  Okulno: 852\n",
      "  Isim: Deniz\n",
      "  Soyisim: Sal\n",
      "  Telno: 05477441474\n",
      "  Dogumtarihi: 05.08.1999\n"
     ]
    }
   ],
   "source": [
    "#Öğrenciler sözlüğü oluşturuldu.\n",
    "ogrenciler = {}\n",
    "#Kullanıcıdan öğrenci bilgilerini al.\n",
    "for i in range(1,4):\n",
    "    okulNo= input(f\"{i}'inci öğrencinin okul numarasını giriniz.\")\n",
    "    isim= input(f\"{i}'inci öğrencinin ismini giriniz.\")\n",
    "    soyIsim= input(f\"{i}'inci öğrencinin soy ismini giriniz.\")\n",
    "    telNo= input(f\"{i}'inci öğrencinin telefon numarasını giriniz.\")\n",
    "    dogumTarihi= input(f\"{i}'inci öğrencinin doğum tarihini giriniz.\")\n",
    "    #ogrenci adlı sözlüğe ekle..\n",
    "    ogrenci = {\n",
    "        'okulNo': okulNo,\n",
    "        'isim':isim,\n",
    "        'soyIsim':soyIsim,\n",
    "        'telNo':telNo,\n",
    "        'dogumTarihi':dogumTarihi\n",
    "    }\n",
    "    #ogrenci sözlüğündeki bilgileri ogrenciler sözlüğüne ekle.\n",
    "    ogrenciler[okulNo]=ogrenci\n",
    "\n",
    "print(\"Ögrenci Bilgileri\\n\")\n",
    "for okulNo, bilgiler in ogrenciler.items():\n",
    "    for key, value in bilgiler.items():\n",
    "        print(f\"  {key.capitalize()}: {value}\")\n"
   ]
  },
  {
   "cell_type": "markdown",
   "metadata": {},
   "source": [
    "# Problem 2\n",
    "\n",
    "### a - Biraz ısınarak başlayalım!\n",
    "\n",
    "```\n",
    "numbers = [5,10,10,15,15,15,20,20,20,20]\n",
    "```\n",
    "\n",
    "Yukarıda `numbers` adında 10 elemanlı bir liste verilmiştir. Bu listenin her elemanını kontrol eden ve tekrar eden elemanları bir kez olacak şekilde başka bir listeye kopyalayan bir program yazınız. Son olarak oluşturduğunuz listeyi ekrana bastırınız.\n",
    "\n",
    "\n",
    "\n",
    "\n",
    "```\n",
    ">Output\n",
    "[5, 10, 15, 20]\n",
    "```\n"
   ]
  },
  {
   "cell_type": "code",
   "execution_count": 3,
   "metadata": {},
   "outputs": [
    {
     "name": "stdout",
     "output_type": "stream",
     "text": [
      "[5, 10, 15, 20]\n"
     ]
    }
   ],
   "source": [
    "numbers = [5,10,10,15,15,15,20,20,20,20]\n",
    "uniqueNumbers=[]\n",
    "\n",
    "for number in numbers:\n",
    "    if number not in uniqueNumbers:\n",
    "        uniqueNumbers.append(number)\n",
    "\n",
    "print(uniqueNumbers)"
   ]
  },
  {
   "cell_type": "markdown",
   "metadata": {},
   "source": [
    "### 🌶️ b) Hadi işi biraz daha zorlaştıralım! \n",
    "\n",
    "\n",
    "Şimdiyse senden `numbers` isimli listedeki tekrar eden elemanları `repeatNumbers` adındaki listeye; tekrar etmeyen elemanları `uniqueNumbers`adındaki listeye kopyalayan yazmanı ve listeleri ekrana bastırmanı bekliyoruz\n",
    "\n",
    "```\n",
    ">Output\n",
    "Tekrar Eden Elemanlar: [10, 10, 15, 15, 15, 20, 20, 20, 20]\n",
    "Tekrar Etmeyen Elemanlar: [5]\n",
    "```"
   ]
  },
  {
   "cell_type": "code",
   "execution_count": 10,
   "metadata": {},
   "outputs": [
    {
     "name": "stdout",
     "output_type": "stream",
     "text": [
      "{5: 1, 10: 2, 15: 3, 20: 4}\n",
      "Tekrar eden elemanlar [10, 10, 15, 15, 15, 20, 20, 20, 20]\n",
      "Tekrar etmeyen elemanlar [5]\n"
     ]
    }
   ],
   "source": [
    "numbers = [5,10,10,15,15,15,20,20,20,20]\n",
    "uniqueNumbers=[]\n",
    "repeatNumbers=[]\n",
    "count={}\n",
    "\n",
    "for number in numbers:\n",
    "    if number in count:\n",
    "        count[number]+=1\n",
    "    else:\n",
    "        count[number]=1\n",
    "print(count)\n",
    "\n",
    "for number in numbers:\n",
    "    if count[number] > 1:\n",
    "        repeatNumbers.append(number)\n",
    "    elif count[number] == 1:\n",
    "        if number not in uniqueNumbers:\n",
    "            uniqueNumbers.append(number)\n",
    "\n",
    "print(f\"Tekrar eden elemanlar {repeatNumbers}\")\n",
    "print(f\"Tekrar etmeyen elemanlar {uniqueNumbers}\")\n"
   ]
  },
  {
   "cell_type": "markdown",
   "metadata": {},
   "source": [
    "# Problem 3\n",
    "sn1 = {1,2,3,4,5}\n",
    "\n",
    "sn2 = {4,5,6,7,8}\n",
    "\n",
    " Verilen 2 adet küme için kesişimlerini, farklarını ve birleşimlerini bulunuz. "
   ]
  },
  {
   "cell_type": "code",
   "execution_count": 12,
   "metadata": {},
   "outputs": [
    {
     "name": "stdout",
     "output_type": "stream",
     "text": [
      "sn1 ve sn2'nin kesişmleri {4, 5}\n",
      "sn1'in sn2'den farkı {1, 2, 3}\n",
      "sn2'in sn1'den farkı {8, 6, 7}\n",
      "sn1 ve sn2'nin birleşimleri {1, 2, 3, 4, 5, 6, 7, 8}\n"
     ]
    }
   ],
   "source": [
    "sn1 = {1,2,3,4,5}\n",
    "sn2 = {4,5,6,7,8}\n",
    "\n",
    "#Kümelerin kesişimleri.\n",
    "print(f\"sn1 ve sn2'nin kesişmleri {sn1&sn2}\")\n",
    "\n",
    "#Kümelerin farkları.\n",
    "print(f\"sn1'in sn2'den farkı {sn1-sn2}\")\n",
    "print(f\"sn2'in sn1'den farkı {sn2-sn1}\")\n",
    "\n",
    "#Kümelerin birleşimleri.\n",
    "print(f\"sn1 ve sn2'nin birleşimleri {sn1|sn2}\")\n"
   ]
  },
  {
   "cell_type": "markdown",
   "metadata": {},
   "source": [
    "# Problem 4\n",
    "\n",
    "Buradaki işlemlerimizin tamamı stringler içindir. Aşağıda verilecek olan metodlar için kendinizin örnek yaratması gerekmektedir. \n",
    "\n",
    "Örneğin `upper` için `string` değişkeni oluştururken` k = \"BAC\"` şeklinde oluşturmayınız. Bunun yerine k değişkenini `k = \"bac`\" şeklinde oluşturmanız `upper` metodundaki değişimi görebilmeniz için daha iyi olacaktır.\n",
    "\n",
    "Bütün metodlardaki değişimin gözle görülür şekilde değişimi beklenmektedir.\n",
    "\n",
    "\n",
    "1- capitalize(), lower(), upper(), swapcase(), title(), replace()\n",
    "\n",
    "2- endswith(), startswith(), find(), index(), count()\n",
    "\n",
    "3- split(), strip(), join(), islower(), isalpha(), isdigit()\n",
    "\n",
    "\n",
    "Yukarıdaki `string` metodlarındaki değişimleri görebildiğimiz bir program yazınız.\n"
   ]
  },
  {
   "cell_type": "code",
   "execution_count": 15,
   "metadata": {},
   "outputs": [
    {
     "name": "stdout",
     "output_type": "stream",
     "text": [
      "ağaçlar ve çimenler yeşildir'in capitalize metodu uygulanmış hali Ağaçlar ve çimenler yeşildir\n",
      "AĞAÇLAR VE ÇİMENLER YEŞİLDİR'in capitalize metodu uygulanmış hali Ağaçlar ve çi̇menler yeşi̇ldi̇r\n",
      "\n",
      "AĞAÇLAR VE ÇİMENLER YEŞİLDİR'in lower metodu uygulanmış hali ağaçlar ve çi̇menler yeşi̇ldi̇r\n",
      "Ağaçlar ve çimenler yeşildir'in lower metodu uygulanmış hali ağaçlar ve çimenler yeşildir\n",
      "\n",
      "ağaçlar ve çimenler yeşildir'in upper metodu uygulanmış hali AĞAÇLAR VE ÇIMENLER YEŞILDIR\n",
      "Ağaçlar ve çimenler yeşildir'in upper metodu uygulanmış hali AĞAÇLAR VE ÇIMENLER YEŞILDIR\n",
      "\n",
      "ağaçlar ve çimenler yeşildir'in swapcase metodu uygulanmış hali AĞAÇLAR VE ÇIMENLER YEŞILDIR\n",
      "AĞAÇLAR VE ÇİMENLER YEŞİLDİR'in swapcase metodu uygulanmış hali ağaçlar ve çi̇menler yeşi̇ldi̇r\n",
      "Ağaçlar ve çimenler yeşildir'in swapcase metodu uygulanmış hali aĞAÇLAR VE ÇIMENLER YEŞILDIR\n",
      "\n",
      "ağaçlar ve çimenler yeşildir'in title metodu uygulanmış hali Ağaçlar Ve Çimenler Yeşildir\n",
      "AĞAÇLAR VE ÇİMENLER YEŞİLDİR'in title metodu uygulanmış hali Ağaçlar Ve Çi̇menler Yeşi̇ldi̇r\n",
      "Ağaçlar ve çimenler yeşildir'in title metodu uygulanmış hali Ağaçlar Ve Çimenler Yeşildir\n",
      "\n",
      "ağaçlar ve çimenler yeşildir'in replace metodu uygulanmış hali mavidir ve çimenler yeşildir\n",
      "AĞAÇLAR VE ÇİMENLER YEŞİLDİR'in replace metodu uygulanmış hali MAVİDİR VE ÇİMENLER YEŞİLDİR\n",
      "Ağaçlar ve çimenler yeşildir'in replace metodu uygulanmış hali Mavidir ve çimenler yeşildir\n",
      "\n",
      "Ağaçlar ve çimenler yeşildir'in endswith() metodunun sonucu (yeşildir) True\n",
      "\n",
      "Ağaçlar ve çimenler yeşildir'in startswith() metodunun sonucu (Ağaçlar) True\n",
      "\n",
      "Ağaçlar ve çimenler yeşildir'in find() metodunun sonucu (ve) 8\n",
      "\n",
      "Ağaçlar ve çimenler yeşildir'in index() metodunun sonucu (ve) 8\n",
      "\n",
      "Ağaçlar ve çimenler yeşildir'in count() metodunun sonucu (ç)2\n",
      "\n",
      "  yeşildir  'in split() metodunun sonucu ['yeşildir']\n",
      "\n",
      "  yeşildir  'in strip() metodunun sonucu yeşildir\n",
      "\n",
      "  yeşildir   ve denizler ve mavidir'in join() metodunun sonucu   yeşildir   denizler mavidir\n",
      "\n",
      "  yeşildir  'in islower() metodunun sonucu True\n",
      "\n",
      "  yeşildir  'in isalpha() metodunun sonucu False\n",
      "\n",
      "  yeşildir  'in isdigit() metodunun sonucu False\n",
      "\n"
     ]
    }
   ],
   "source": [
    "str1=\"ağaçlar ve çimenler yeşildir\"\n",
    "str2=\"AĞAÇLAR VE ÇİMENLER YEŞİLDİR\"\n",
    "str3=\"Ağaçlar ve çimenler yeşildir\"\n",
    "\n",
    "# 1- capitalize(), lower(), upper(), swapcase(), title(), replace()\n",
    "print(f\"{str1}'in capitalize metodu uygulanmış hali {str1.capitalize()}\")\n",
    "print(f\"{str2}'in capitalize metodu uygulanmış hali {str2.capitalize()}\\n\")\n",
    "\n",
    "print(f\"{str2}'in lower metodu uygulanmış hali {str2.lower()}\")\n",
    "print(f\"{str3}'in lower metodu uygulanmış hali {str3.lower()}\\n\")\n",
    "\n",
    "print(f\"{str1}'in upper metodu uygulanmış hali {str1.upper()}\")\n",
    "print(f\"{str3}'in upper metodu uygulanmış hali {str3.upper()}\\n\")\n",
    "\n",
    "print(f\"{str1}'in swapcase metodu uygulanmış hali {str1.swapcase()}\")\n",
    "print(f\"{str2}'in swapcase metodu uygulanmış hali {str2.swapcase()}\")\n",
    "print(f\"{str3}'in swapcase metodu uygulanmış hali {str3.swapcase()}\\n\")\n",
    "\n",
    "print(f\"{str1}'in title metodu uygulanmış hali {str1.title()}\")\n",
    "print(f\"{str2}'in title metodu uygulanmış hali {str2.title()}\")\n",
    "print(f\"{str3}'in title metodu uygulanmış hali {str3.title()}\\n\")\n",
    "\n",
    "print(f\"{str1}'in replace metodu uygulanmış hali {str1.replace('ağaçlar','mavidir')}\")\n",
    "print(f\"{str2}'in replace metodu uygulanmış hali {str2.replace('AĞAÇLAR','MAVİDİR')}\")\n",
    "print(f\"{str3}'in replace metodu uygulanmış hali {str3.replace('Ağaçlar','Mavidir')}\\n\")\n",
    "\n",
    "# 2- endswith(), startswith(), find(), index(), count()\n",
    "print(f\"{str3}'in endswith() metodunun sonucu (yeşildir) {str3.endswith(\"yeşildir\")}\\n\")\n",
    "print(f\"{str3}'in startswith() metodunun sonucu (Ağaçlar) {str3.startswith(\"Ağaçlar\")}\\n\")\n",
    "print(f\"{str3}'in find() metodunun sonucu (ve) {str3.find(\"ve\")}\\n\")\n",
    "print(f\"{str3}'in index() metodunun sonucu (ve) {str3.index(\"ve\")}\\n\")\n",
    "print(f\"{str3}'in count() metodunun sonucu (ç){str3.count(\"ç\")}\\n\")\n",
    "\n",
    "str4= \"  yeşildir  \"\n",
    "# 3- split(), strip(), join(), islower(), isalpha(), isdigit()\n",
    "print(f\"{str4}'in split() metodunun sonucu {str4.split()}\\n\")\n",
    "print(f\"{str4}'in strip() metodunun sonucu {str4.strip()}\\n\")\n",
    "print(f\"{str4} ve {'denizler'} ve {'mavidir'}'in join() metodunun sonucu {' '.join([str4, 'denizler', 'mavidir'])}\\n\")\n",
    "print(f\"{str4}'in islower() metodunun sonucu {str4.islower()}\\n\")\n",
    "print(f\"{str4}'in isalpha() metodunun sonucu {str4.isalpha()}\\n\")\n",
    "print(f\"{str4}'in isdigit() metodunun sonucu {str4.isdigit()}\\n\")\n",
    "\n"
   ]
  }
 ],
 "metadata": {
  "kernelspec": {
   "display_name": "Python 3.10.5 64-bit",
   "language": "python",
   "name": "python3"
  },
  "language_info": {
   "codemirror_mode": {
    "name": "ipython",
    "version": 3
   },
   "file_extension": ".py",
   "mimetype": "text/x-python",
   "name": "python",
   "nbconvert_exporter": "python",
   "pygments_lexer": "ipython3",
   "version": "3.12.3"
  },
  "orig_nbformat": 4,
  "vscode": {
   "interpreter": {
    "hash": "5026d2d6e7aaaaba093def813beadff083d8733e4a511af01735cbabd156995d"
   }
  }
 },
 "nbformat": 4,
 "nbformat_minor": 2
}
